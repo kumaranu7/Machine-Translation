{
  "nbformat": 4,
  "nbformat_minor": 0,
  "metadata": {
    "colab": {
      "name": "Machine_Translation_Project",
      "provenance": [],
      "collapsed_sections": [],
      "authorship_tag": "ABX9TyMOXzW0Nle8h0dgCsKY+cb6",
      "include_colab_link": true
    },
    "kernelspec": {
      "name": "python3",
      "display_name": "Python 3"
    },
    "accelerator": "GPU"
  },
  "cells": [
    {
      "cell_type": "markdown",
      "metadata": {
        "id": "view-in-github",
        "colab_type": "text"
      },
      "source": [
        "<a href=\"https://colab.research.google.com/github/kumaranu7/Machine-Translation/blob/master/Machine_Translation_Project.ipynb\" target=\"_parent\"><img src=\"https://colab.research.google.com/assets/colab-badge.svg\" alt=\"Open In Colab\"/></a>"
      ]
    },
    {
      "cell_type": "code",
      "metadata": {
        "id": "RIfU9NYIimnu",
        "colab_type": "code",
        "outputId": "86fbc37b-6dcd-4fe3-a758-7546d9a643ea",
        "colab": {
          "base_uri": "https://localhost:8080/",
          "height": 126
        }
      },
      "source": [
        "from google.colab import drive\n",
        "drive.mount('/content/drive')"
      ],
      "execution_count": 1,
      "outputs": [
        {
          "output_type": "stream",
          "text": [
            "Go to this URL in a browser: https://accounts.google.com/o/oauth2/auth?client_id=947318989803-6bn6qk8qdgf4n4g3pfee6491hc0brc4i.apps.googleusercontent.com&redirect_uri=urn%3aietf%3awg%3aoauth%3a2.0%3aoob&response_type=code&scope=email%20https%3a%2f%2fwww.googleapis.com%2fauth%2fdocs.test%20https%3a%2f%2fwww.googleapis.com%2fauth%2fdrive%20https%3a%2f%2fwww.googleapis.com%2fauth%2fdrive.photos.readonly%20https%3a%2f%2fwww.googleapis.com%2fauth%2fpeopleapi.readonly\n",
            "\n",
            "Enter your authorization code:\n",
            "··········\n",
            "Mounted at /content/drive\n"
          ],
          "name": "stdout"
        }
      ]
    },
    {
      "cell_type": "code",
      "metadata": {
        "id": "MS5sKog43YP9",
        "colab_type": "code",
        "colab": {}
      },
      "source": [
        "import string\n",
        "import re\n",
        "from pickle import dump, load\n",
        "from unicodedata import normalize\n",
        "from numpy import array"
      ],
      "execution_count": 0,
      "outputs": []
    },
    {
      "cell_type": "code",
      "metadata": {
        "id": "chqFyBaWPOuj",
        "colab_type": "code",
        "colab": {
          "base_uri": "https://localhost:8080/",
          "height": 124
        },
        "outputId": "87cd8ad9-2d43-424e-fae6-8b954f27bdac"
      },
      "source": [
        "def load_doc(filename):\n",
        "  file = open(filename, 'rt', encoding='utf-8')\n",
        "  text = file.read()\n",
        "  file.close()\n",
        "  return text\n",
        "\n",
        "def to_pairs(doc):\n",
        "  lines = doc.strip().split('\\n')\n",
        "  pairs = [line.split('\\t') for line in lines]\n",
        "  return pairs\n",
        "\n",
        "def clean_pairs(lines):\n",
        "  cleaned = [] #to append all the sentences\n",
        "\n",
        "  re_print = re.compile('[^%s]' % re.escape(string.printable)) #filtering characters\n",
        "  table = str.maketrans('', '', string.punctuation) #removing punctuations by translation table\n",
        "\n",
        "  for pair in lines:\n",
        "    clean_pair = [] #to append every cleaned pair in every sentences\n",
        "    for line in pair: \n",
        "      line = normalize('NFD',  line).encode('ascii', 'ignore')\n",
        "      line = line.decode('UTF-8')\n",
        "      line = line.split()\n",
        "      line = [word.lower() for word in line]\n",
        "      line = [word.translate(table) for word in line]\n",
        "      line = [re_print.sub('', w) for w in line]\n",
        "      line = [word for word in line if word.isalpha()] #detecting if each word is aplhabet / removing tokens\n",
        "      clean_pair.append(' ' .join(line))\n",
        "    cleaned.append(clean_pair)\n",
        "  return array(cleaned)\n",
        "\n",
        "def save_clean_data(sentences, filename):\n",
        "  dump(sentences, open(filename, 'wb'))\n",
        "  print('Saved %s' % filename)\n",
        "\n",
        "#loading the dataset\n",
        "filename = '/content/drive/My Drive/Colab Notebooks/Projects/deu-eng/deu.txt'\n",
        "doc = load_doc(filename)\n",
        "pairs = to_pairs(doc)\n",
        "clean_pairs = clean_pairs(pairs)\n",
        "save_clean_data(clean_pairs, 'english-german.pkl')\n",
        "\n",
        "#spot check \n",
        "for i in range(5):\n",
        "  print('[%s] => [%s]' % (clean_pairs[i,0], clean_pairs[i,1]))"
      ],
      "execution_count": 3,
      "outputs": [
        {
          "output_type": "stream",
          "text": [
            "Saved english-german.pkl\n",
            "[hi] => [hallo]\n",
            "[hi] => [gru gott]\n",
            "[run] => [lauf]\n",
            "[wow] => [potzdonner]\n",
            "[wow] => [donnerwetter]\n"
          ],
          "name": "stdout"
        }
      ]
    },
    {
      "cell_type": "code",
      "metadata": {
        "id": "M1z5pFHyqQzr",
        "colab_type": "code",
        "colab": {
          "base_uri": "https://localhost:8080/",
          "height": 70
        },
        "outputId": "e1a69874-f719-4f10-bbbf-288f02e2ae60"
      },
      "source": [
        "#saving data and splitting the dataset into train, test\n",
        "from pickle import load, dump\n",
        "from numpy.random import rand, shuffle\n",
        "def load_clean_dataset(filename):\n",
        "  return load(open(filename, 'rb'))\n",
        "\n",
        "raw_dataset = load_clean_dataset('english-german.pkl')\n",
        "n_sentences = 10000\n",
        "dataset = raw_dataset[:n_sentences, :]\n",
        "shuffle(dataset)\n",
        "train, test = dataset[:9000], dataset[9000:]\n",
        "save_clean_data(train, 'english-german-train.pkl')\n",
        "save_clean_data(test, 'english-german-test.pkl')\n",
        "save_clean_data(dataset, 'english-german-both.pkl')\n"
      ],
      "execution_count": 4,
      "outputs": [
        {
          "output_type": "stream",
          "text": [
            "Saved english-german-train.pkl\n",
            "Saved english-german-test.pkl\n",
            "Saved english-german-both.pkl\n"
          ],
          "name": "stdout"
        }
      ]
    },
    {
      "cell_type": "code",
      "metadata": {
        "id": "W6ew2Hma4lWF",
        "colab_type": "code",
        "colab": {
          "base_uri": "https://localhost:8080/",
          "height": 1000
        },
        "outputId": "41bf5e24-c993-4754-aa52-5c0cbc0b3fd0"
      },
      "source": [
        "from pickle import load\n",
        "from numpy import array\n",
        "from keras.preprocessing.text import Tokenizer\n",
        "from keras.preprocessing.sequence import pad_sequences\n",
        "from keras.utils import to_categorical\n",
        "from keras.utils.vis_utils import plot_model\n",
        "from keras.models import Sequential\n",
        "from keras.layers import LSTM\n",
        "from keras.layers import Dense\n",
        "from keras.layers import Embedding\n",
        "from keras.layers import RepeatVector\n",
        "from keras.layers import TimeDistributed\n",
        "from keras.callbacks import ModelCheckpoint\n",
        "\n",
        "# load a clean dataset\n",
        "def load_clean_sentences(filename):\n",
        "\treturn load(open(filename, 'rb'))\n",
        "\n",
        "# fit a tokenizer\n",
        "def create_tokenizer(lines):\n",
        "\ttokenizer = Tokenizer()\n",
        "\ttokenizer.fit_on_texts(lines)\n",
        "\treturn tokenizer\n",
        "\n",
        "# max sentence length\n",
        "def max_length(lines):\n",
        "\treturn max(len(line.split()) for line in lines)\n",
        "\n",
        "# encode and pad sequences\n",
        "def encode_sequences(tokenizer, length, lines):\n",
        "\t# integer encode sequences\n",
        "\tX = tokenizer.texts_to_sequences(lines)\n",
        "\t# pad sequences with 0 values\n",
        "\tX = pad_sequences(X, maxlen=length, padding='post')\n",
        "\treturn X\n",
        "\n",
        "# one hot encode target sequence\n",
        "def encode_output(sequences, vocab_size):\n",
        "\tylist = list()\n",
        "\tfor sequence in sequences:\n",
        "\t\tencoded = to_categorical(sequence, num_classes=vocab_size)\n",
        "\t\tylist.append(encoded)\n",
        "\ty = array(ylist)\n",
        "\ty = y.reshape(sequences.shape[0], sequences.shape[1], vocab_size)\n",
        "\treturn y\n",
        "\n",
        "# define NMT model\n",
        "def define_model(src_vocab, tar_vocab, src_timesteps, tar_timesteps, n_units):\n",
        "\tmodel = Sequential()\n",
        "\tmodel.add(Embedding(src_vocab, n_units, input_length=src_timesteps, mask_zero=True))\n",
        "\tmodel.add(LSTM(n_units))\n",
        "\tmodel.add(RepeatVector(tar_timesteps))\n",
        "\tmodel.add(LSTM(n_units, return_sequences=True))\n",
        "\tmodel.add(TimeDistributed(Dense(tar_vocab, activation='softmax')))\n",
        "\treturn model\n",
        "\n",
        "# load datasets\n",
        "dataset = load_clean_sentences('english-german-both.pkl')\n",
        "train = load_clean_sentences('english-german-train.pkl')\n",
        "test = load_clean_sentences('english-german-test.pkl')\n",
        "\n",
        "# prepare english tokenizer\n",
        "eng_tokenizer = create_tokenizer(dataset[:, 0])\n",
        "eng_vocab_size = len(eng_tokenizer.word_index) + 1\n",
        "eng_length = max_length(dataset[:, 0])\n",
        "print('English Vocabulary Size: %d' % eng_vocab_size)\n",
        "print('English Max Length: %d' % (eng_length))\n",
        "# prepare german tokenizer\n",
        "ger_tokenizer = create_tokenizer(dataset[:, 1])\n",
        "ger_vocab_size = len(ger_tokenizer.word_index) + 1\n",
        "ger_length = max_length(dataset[:, 1])\n",
        "print('German Vocabulary Size: %d' % ger_vocab_size)\n",
        "print('German Max Length: %d' % (ger_length))\n",
        "\n",
        "# prepare training data\n",
        "trainX = encode_sequences(ger_tokenizer, ger_length, train[:, 1])\n",
        "trainY = encode_sequences(eng_tokenizer, eng_length, train[:, 0])\n",
        "trainY = encode_output(trainY, eng_vocab_size)\n",
        "# prepare validation data\n",
        "testX = encode_sequences(ger_tokenizer, ger_length, test[:, 1])\n",
        "testY = encode_sequences(eng_tokenizer, eng_length, test[:, 0])\n",
        "testY = encode_output(testY, eng_vocab_size)\n",
        "\n",
        "# define model\n",
        "model = define_model(ger_vocab_size, eng_vocab_size, ger_length, eng_length, 256)\n",
        "model.compile(optimizer='adam', loss='categorical_crossentropy')\n",
        "# summarize defined model\n",
        "print(model.summary())\n",
        "plot_model(model, to_file='model.png', show_shapes=True)\n",
        "# fit model\n",
        "filename = 'model.h5'\n",
        "checkpoint = ModelCheckpoint(filename, monitor='val_loss', verbose=1, save_best_only=True, mode='min')\n",
        "model.fit(trainX, trainY, epochs=30, batch_size=64, validation_data=(testX, testY), callbacks=[checkpoint], verbose=2)"
      ],
      "execution_count": 7,
      "outputs": [
        {
          "output_type": "stream",
          "text": [
            "Using TensorFlow backend.\n"
          ],
          "name": "stderr"
        },
        {
          "output_type": "display_data",
          "data": {
            "text/html": [
              "<p style=\"color: red;\">\n",
              "The default version of TensorFlow in Colab will soon switch to TensorFlow 2.x.<br>\n",
              "We recommend you <a href=\"https://www.tensorflow.org/guide/migrate\" target=\"_blank\">upgrade</a> now \n",
              "or ensure your notebook will continue to use TensorFlow 1.x via the <code>%tensorflow_version 1.x</code> magic:\n",
              "<a href=\"https://colab.research.google.com/notebooks/tensorflow_version.ipynb\" target=\"_blank\">more info</a>.</p>\n"
            ],
            "text/plain": [
              "<IPython.core.display.HTML object>"
            ]
          },
          "metadata": {
            "tags": []
          }
        },
        {
          "output_type": "stream",
          "text": [
            "English Vocabulary Size: 2200\n",
            "English Max Length: 5\n",
            "German Vocabulary Size: 3529\n",
            "German Max Length: 9\n",
            "WARNING:tensorflow:From /usr/local/lib/python3.6/dist-packages/keras/backend/tensorflow_backend.py:66: The name tf.get_default_graph is deprecated. Please use tf.compat.v1.get_default_graph instead.\n",
            "\n",
            "WARNING:tensorflow:From /usr/local/lib/python3.6/dist-packages/keras/backend/tensorflow_backend.py:541: The name tf.placeholder is deprecated. Please use tf.compat.v1.placeholder instead.\n",
            "\n",
            "WARNING:tensorflow:From /usr/local/lib/python3.6/dist-packages/keras/backend/tensorflow_backend.py:4432: The name tf.random_uniform is deprecated. Please use tf.random.uniform instead.\n",
            "\n",
            "WARNING:tensorflow:From /usr/local/lib/python3.6/dist-packages/keras/backend/tensorflow_backend.py:3239: where (from tensorflow.python.ops.array_ops) is deprecated and will be removed in a future version.\n",
            "Instructions for updating:\n",
            "Use tf.where in 2.0, which has the same broadcast rule as np.where\n",
            "WARNING:tensorflow:From /usr/local/lib/python3.6/dist-packages/keras/optimizers.py:793: The name tf.train.Optimizer is deprecated. Please use tf.compat.v1.train.Optimizer instead.\n",
            "\n",
            "WARNING:tensorflow:From /usr/local/lib/python3.6/dist-packages/keras/backend/tensorflow_backend.py:3576: The name tf.log is deprecated. Please use tf.math.log instead.\n",
            "\n",
            "Model: \"sequential_1\"\n",
            "_________________________________________________________________\n",
            "Layer (type)                 Output Shape              Param #   \n",
            "=================================================================\n",
            "embedding_1 (Embedding)      (None, 9, 256)            903424    \n",
            "_________________________________________________________________\n",
            "lstm_1 (LSTM)                (None, 256)               525312    \n",
            "_________________________________________________________________\n",
            "repeat_vector_1 (RepeatVecto (None, 5, 256)            0         \n",
            "_________________________________________________________________\n",
            "lstm_2 (LSTM)                (None, 5, 256)            525312    \n",
            "_________________________________________________________________\n",
            "time_distributed_1 (TimeDist (None, 5, 2200)           565400    \n",
            "=================================================================\n",
            "Total params: 2,519,448\n",
            "Trainable params: 2,519,448\n",
            "Non-trainable params: 0\n",
            "_________________________________________________________________\n",
            "None\n",
            "WARNING:tensorflow:From /usr/local/lib/python3.6/dist-packages/keras/backend/tensorflow_backend.py:1033: The name tf.assign_add is deprecated. Please use tf.compat.v1.assign_add instead.\n",
            "\n",
            "WARNING:tensorflow:From /usr/local/lib/python3.6/dist-packages/keras/backend/tensorflow_backend.py:1020: The name tf.assign is deprecated. Please use tf.compat.v1.assign instead.\n",
            "\n",
            "WARNING:tensorflow:From /usr/local/lib/python3.6/dist-packages/keras/backend/tensorflow_backend.py:3005: The name tf.Session is deprecated. Please use tf.compat.v1.Session instead.\n",
            "\n",
            "Train on 9000 samples, validate on 1000 samples\n",
            "Epoch 1/30\n",
            "WARNING:tensorflow:From /usr/local/lib/python3.6/dist-packages/keras/backend/tensorflow_backend.py:190: The name tf.get_default_session is deprecated. Please use tf.compat.v1.get_default_session instead.\n",
            "\n",
            "WARNING:tensorflow:From /usr/local/lib/python3.6/dist-packages/keras/backend/tensorflow_backend.py:197: The name tf.ConfigProto is deprecated. Please use tf.compat.v1.ConfigProto instead.\n",
            "\n",
            "WARNING:tensorflow:From /usr/local/lib/python3.6/dist-packages/keras/backend/tensorflow_backend.py:207: The name tf.global_variables is deprecated. Please use tf.compat.v1.global_variables instead.\n",
            "\n",
            "WARNING:tensorflow:From /usr/local/lib/python3.6/dist-packages/keras/backend/tensorflow_backend.py:216: The name tf.is_variable_initialized is deprecated. Please use tf.compat.v1.is_variable_initialized instead.\n",
            "\n",
            "WARNING:tensorflow:From /usr/local/lib/python3.6/dist-packages/keras/backend/tensorflow_backend.py:223: The name tf.variables_initializer is deprecated. Please use tf.compat.v1.variables_initializer instead.\n",
            "\n",
            " - 15s - loss: 4.1797 - val_loss: 3.3909\n",
            "\n",
            "Epoch 00001: val_loss improved from inf to 3.39088, saving model to model.h5\n",
            "Epoch 2/30\n",
            " - 5s - loss: 3.2644 - val_loss: 3.2424\n",
            "\n",
            "Epoch 00002: val_loss improved from 3.39088 to 3.24235, saving model to model.h5\n",
            "Epoch 3/30\n",
            " - 5s - loss: 3.1265 - val_loss: 3.1652\n",
            "\n",
            "Epoch 00003: val_loss improved from 3.24235 to 3.16518, saving model to model.h5\n",
            "Epoch 4/30\n",
            " - 5s - loss: 2.9958 - val_loss: 3.0469\n",
            "\n",
            "Epoch 00004: val_loss improved from 3.16518 to 3.04687, saving model to model.h5\n",
            "Epoch 5/30\n",
            " - 5s - loss: 2.8277 - val_loss: 2.9430\n",
            "\n",
            "Epoch 00005: val_loss improved from 3.04687 to 2.94295, saving model to model.h5\n",
            "Epoch 6/30\n",
            " - 5s - loss: 2.6692 - val_loss: 2.8316\n",
            "\n",
            "Epoch 00006: val_loss improved from 2.94295 to 2.83162, saving model to model.h5\n",
            "Epoch 7/30\n",
            " - 5s - loss: 2.5076 - val_loss: 2.6915\n",
            "\n",
            "Epoch 00007: val_loss improved from 2.83162 to 2.69153, saving model to model.h5\n",
            "Epoch 8/30\n",
            " - 5s - loss: 2.3354 - val_loss: 2.5824\n",
            "\n",
            "Epoch 00008: val_loss improved from 2.69153 to 2.58236, saving model to model.h5\n",
            "Epoch 9/30\n",
            " - 5s - loss: 2.1775 - val_loss: 2.4700\n",
            "\n",
            "Epoch 00009: val_loss improved from 2.58236 to 2.47004, saving model to model.h5\n",
            "Epoch 10/30\n",
            " - 5s - loss: 2.0227 - val_loss: 2.3858\n",
            "\n",
            "Epoch 00010: val_loss improved from 2.47004 to 2.38580, saving model to model.h5\n",
            "Epoch 11/30\n",
            " - 5s - loss: 1.8828 - val_loss: 2.3191\n",
            "\n",
            "Epoch 00011: val_loss improved from 2.38580 to 2.31907, saving model to model.h5\n",
            "Epoch 12/30\n",
            " - 5s - loss: 1.7567 - val_loss: 2.2617\n",
            "\n",
            "Epoch 00012: val_loss improved from 2.31907 to 2.26166, saving model to model.h5\n",
            "Epoch 13/30\n",
            " - 5s - loss: 1.6373 - val_loss: 2.1908\n",
            "\n",
            "Epoch 00013: val_loss improved from 2.26166 to 2.19084, saving model to model.h5\n",
            "Epoch 14/30\n",
            " - 5s - loss: 1.5249 - val_loss: 2.1327\n",
            "\n",
            "Epoch 00014: val_loss improved from 2.19084 to 2.13270, saving model to model.h5\n",
            "Epoch 15/30\n",
            " - 5s - loss: 1.4149 - val_loss: 2.0879\n",
            "\n",
            "Epoch 00015: val_loss improved from 2.13270 to 2.08788, saving model to model.h5\n",
            "Epoch 16/30\n",
            " - 5s - loss: 1.3127 - val_loss: 2.0609\n",
            "\n",
            "Epoch 00016: val_loss improved from 2.08788 to 2.06094, saving model to model.h5\n",
            "Epoch 17/30\n",
            " - 5s - loss: 1.2158 - val_loss: 2.0252\n",
            "\n",
            "Epoch 00017: val_loss improved from 2.06094 to 2.02522, saving model to model.h5\n",
            "Epoch 18/30\n",
            " - 5s - loss: 1.1167 - val_loss: 1.9882\n",
            "\n",
            "Epoch 00018: val_loss improved from 2.02522 to 1.98822, saving model to model.h5\n",
            "Epoch 19/30\n",
            " - 5s - loss: 1.0267 - val_loss: 1.9625\n",
            "\n",
            "Epoch 00019: val_loss improved from 1.98822 to 1.96249, saving model to model.h5\n",
            "Epoch 20/30\n",
            " - 5s - loss: 0.9420 - val_loss: 1.9349\n",
            "\n",
            "Epoch 00020: val_loss improved from 1.96249 to 1.93490, saving model to model.h5\n",
            "Epoch 21/30\n",
            " - 5s - loss: 0.8558 - val_loss: 1.9054\n",
            "\n",
            "Epoch 00021: val_loss improved from 1.93490 to 1.90541, saving model to model.h5\n",
            "Epoch 22/30\n",
            " - 5s - loss: 0.7782 - val_loss: 1.8900\n",
            "\n",
            "Epoch 00022: val_loss improved from 1.90541 to 1.89003, saving model to model.h5\n",
            "Epoch 23/30\n",
            " - 5s - loss: 0.7088 - val_loss: 1.8799\n",
            "\n",
            "Epoch 00023: val_loss improved from 1.89003 to 1.87991, saving model to model.h5\n",
            "Epoch 24/30\n",
            " - 5s - loss: 0.6450 - val_loss: 1.8524\n",
            "\n",
            "Epoch 00024: val_loss improved from 1.87991 to 1.85245, saving model to model.h5\n",
            "Epoch 25/30\n",
            " - 5s - loss: 0.5832 - val_loss: 1.8464\n",
            "\n",
            "Epoch 00025: val_loss improved from 1.85245 to 1.84643, saving model to model.h5\n",
            "Epoch 26/30\n",
            " - 5s - loss: 0.5245 - val_loss: 1.8353\n",
            "\n",
            "Epoch 00026: val_loss improved from 1.84643 to 1.83534, saving model to model.h5\n",
            "Epoch 27/30\n",
            " - 5s - loss: 0.4737 - val_loss: 1.8352\n",
            "\n",
            "Epoch 00027: val_loss improved from 1.83534 to 1.83516, saving model to model.h5\n",
            "Epoch 28/30\n",
            " - 5s - loss: 0.4300 - val_loss: 1.8257\n",
            "\n",
            "Epoch 00028: val_loss improved from 1.83516 to 1.82567, saving model to model.h5\n",
            "Epoch 29/30\n",
            " - 5s - loss: 0.3924 - val_loss: 1.8311\n",
            "\n",
            "Epoch 00029: val_loss did not improve from 1.82567\n",
            "Epoch 30/30\n",
            " - 5s - loss: 0.3565 - val_loss: 1.8321\n",
            "\n",
            "Epoch 00030: val_loss did not improve from 1.82567\n"
          ],
          "name": "stdout"
        },
        {
          "output_type": "execute_result",
          "data": {
            "text/plain": [
              "<keras.callbacks.History at 0x7fb1f7d2dcc0>"
            ]
          },
          "metadata": {
            "tags": []
          },
          "execution_count": 7
        }
      ]
    },
    {
      "cell_type": "code",
      "metadata": {
        "id": "g8R6V7AKnKgY",
        "colab_type": "code",
        "colab": {}
      },
      "source": [
        "from keras.models import load_model\n",
        "model = load_model('model.h5')\n"
      ],
      "execution_count": 0,
      "outputs": []
    },
    {
      "cell_type": "code",
      "metadata": {
        "id": "EZXKDX-8-yzL",
        "colab_type": "code",
        "colab": {}
      },
      "source": [
        "def word_for_id(integers, tokenizer):\n",
        "  for word, index in tokenizer.word_index.items():\n",
        "      if index == integer:\n",
        "        return word\n",
        "  return None"
      ],
      "execution_count": 0,
      "outputs": []
    },
    {
      "cell_type": "code",
      "metadata": {
        "id": "vTfFKEgOdljO",
        "colab_type": "code",
        "colab": {}
      },
      "source": [
        "def predict_sequences(model, tokenizer, source):\n",
        "  predictions = model.predict(source, verbose = 0)[0]\n",
        "  integers = [argmax(vector) for vector in predictions]\n",
        "  target = list()\n",
        "  for i in intergers:\n",
        "    word = word_for_id(i, tokenizer)\n",
        "    if word is None:\n",
        "      break\n",
        "    target.appennd(word)\n",
        "    return ''.join(target)"
      ],
      "execution_count": 0,
      "outputs": []
    },
    {
      "cell_type": "code",
      "metadata": {
        "id": "CZ82Rro5hcuB",
        "colab_type": "code",
        "colab": {}
      },
      "source": [
        "def evaluate_model(model, tokenizer, source, raw_dataset):\n",
        "  acutal, predicted = list(), list()\n",
        "  for i, source in enumerate(sources):\n",
        "    source = sources.reshape(1, source.shape[0])\n",
        "    translation = predict_sequences(model, eng_tokenizer, source)\n",
        "    raw_target, raw_src = raw_dataset[i]\n",
        "\n",
        "    if i < 10:\n",
        "      print('src[%s], target[%s], predicted[%s]' %(raw_src, raw_target, translation))\n",
        "    actual.append([raw_target.split()])\n",
        "    predicted.append(translation.split())\n",
        "  \n",
        "  #print BLUE score\n",
        "    print('BLEU - 1 %f' % corpus_bleu(actual, predicted, weights = (1.0, 0, 0, 0)))\n",
        "    print('BLEU - 2 %f' % corpus_bleu(actual, predicted, weights = (0.5, 0.5, 0, 0)))\n",
        "    print('BLEU - 3 %f' % corpus_bleu(actual, predicted, weights = (0.33,0.33,0.33,0)))\n",
        "    print('BLEU - 4 %f' % corpus_bleu(actual, predicted, weights = (0.25,0.25,0.25,0.25)))\n"
      ],
      "execution_count": 0,
      "outputs": []
    },
    {
      "cell_type": "code",
      "metadata": {
        "id": "9xhfZx16glm5",
        "colab_type": "code",
        "colab": {}
      },
      "source": [
        ""
      ],
      "execution_count": 0,
      "outputs": []
    }
  ]
}